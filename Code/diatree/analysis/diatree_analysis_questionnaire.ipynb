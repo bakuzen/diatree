{
 "cells": [
  {
   "cell_type": "code",
   "execution_count": 522,
   "metadata": {
    "collapsed": true
   },
   "outputs": [],
   "source": [
    "%matplotlib inline\n",
    "import numpy as np\n",
    "import pandas as pd\n",
    "import gzip"
   ]
  },
  {
   "cell_type": "code",
   "execution_count": 523,
   "metadata": {
    "collapsed": true
   },
   "outputs": [],
   "source": [
    "import sys\n",
    "sys.path.append(\"/Users/casey/git/mumodo/packages\")"
   ]
  },
  {
   "cell_type": "code",
   "execution_count": 524,
   "metadata": {
    "collapsed": false
   },
   "outputs": [],
   "source": [
    "from mumodo import mumodoIO as mm"
   ]
  },
  {
   "cell_type": "code",
   "execution_count": 525,
   "metadata": {
    "collapsed": false
   },
   "outputs": [
    {
     "data": {
      "text/plain": [
       "['r10_20160512_141115',\n",
       " 'r11_20160513_104828',\n",
       " 'r12_20160513_113029',\n",
       " 'r13_20160513_121112',\n",
       " 'r14_20160513_133005',\n",
       " 'r1_20160509_120534',\n",
       " 'r3_20160510_101902',\n",
       " 'r4_20160510_121233',\n",
       " 'r5_20160510_142531',\n",
       " 'r6_20160510_152235',\n",
       " 'r7questionnaire_20160511_142415',\n",
       " 'r8_20160512_101310',\n",
       " 'r9_20160512_131625']"
      ]
     },
     "execution_count": 525,
     "metadata": {},
     "output_type": "execute_result"
    }
   ],
   "source": [
    "import os\n",
    "\n",
    "folders = os.listdir('../cleaned')\n",
    "\n",
    "folders"
   ]
  },
  {
   "cell_type": "code",
   "execution_count": 526,
   "metadata": {
    "collapsed": true
   },
   "outputs": [],
   "source": [
    "def getstrings(xmline):\n",
    "    xmline = xmline.strip()\n",
    "    xmline = xmline.split(' ')\n",
    "    found = {}\n",
    "    for x in xmline:\n",
    "        if '=' in x:\n",
    "            x = x.replace('\"', '').replace('>','')\n",
    "            x = x.split(\"=\")\n",
    "            found[x[0]] = x[1]\n",
    "    return found"
   ]
  },
  {
   "cell_type": "code",
   "execution_count": 533,
   "metadata": {
    "collapsed": false
   },
   "outputs": [],
   "source": [
    "data = {}\n",
    "\n",
    "for f in folders:  \n",
    "    pid = f[:2]\n",
    "    frame =  gzip.open(os.path.join('../cleaned/', f, 'log.xio.gz'))\n",
    "    d = []\n",
    "    for line in frame:\n",
    "        s = getstrings(line)\n",
    "        if 'sensorName' not in s: continue\n",
    "        if 'TASK' in s['sensorName']:\n",
    "            d.append(s['value'])\n",
    "    data[pid] = d"
   ]
  },
  {
   "cell_type": "code",
   "execution_count": 534,
   "metadata": {
    "collapsed": false
   },
   "outputs": [],
   "source": [
    "def init_counter(q):\n",
    "    if 'p2' in q:\n",
    "        return {'Phase1':0, 'Phase2':0}\n",
    "    return {'Phase3':0, 'Phase2':0}"
   ]
  },
  {
   "cell_type": "code",
   "execution_count": 535,
   "metadata": {
    "collapsed": false
   },
   "outputs": [],
   "source": [
    "def handle_responses(data):\n",
    "    \n",
    "    responses = {}\n",
    "    totals = {}\n",
    "    for pid in data:\n",
    "        frame = data[pid]\n",
    "        for row in frame:\n",
    "            if 'response' not in row: continue\n",
    "            row = row.split(':')\n",
    "            q = row[1]\n",
    "            a = row[2]\n",
    "            if q not in responses:\n",
    "                totals[q] = 0.0\n",
    "                responses[q] = {}\n",
    "                responses[q] = init_counter(q)\n",
    "            totals[q] = totals[q] + 1\n",
    "            if a == 'Beide':\n",
    "                #for p in responses[q]:\n",
    "                #    responses[q][p] + 1.0\n",
    "                continue\n",
    "            elif a == 'Keiner':\n",
    "                continue\n",
    "            else:\n",
    "                responses[q][a] = responses[q][a] + 1.0\n",
    "    print totals\n",
    "    return responses\n"
   ]
  },
  {
   "cell_type": "code",
   "execution_count": 536,
   "metadata": {
    "collapsed": false
   },
   "outputs": [
    {
     "name": "stdout",
     "output_type": "stream",
     "text": [
      "{'p3q12': 8.0, 'p3q10': 8.0, 'p3q11': 8.0, 'p3q8': 8.0, 'p3q9': 8.0, 'p3q4': 8.0, 'p3q5': 8.0, 'p2q10': 6.0, 'p2q1': 6.0, 'p2q3': 6.0, 'p2q2': 6.0, 'p2q5': 6.0, 'p2q4': 6.0, 'p2q7': 6.0, 'p2q6': 6.0, 'p2q9': 6.0, 'p2q8': 6.0, 'p3q6': 8.0, 'p3q7': 8.0, 'p3q1': 8.0, 'p3q2': 8.0, 'p3q3': 8.0}\n"
     ]
    }
   ],
   "source": [
    "responses = handle_responses(data)"
   ]
  },
  {
   "cell_type": "code",
   "execution_count": 537,
   "metadata": {
    "collapsed": false
   },
   "outputs": [],
   "source": [
    "import matplotlib.pyplot as plt\n",
    "keys = responses.keys()\n",
    "i = 0"
   ]
  },
  {
   "cell_type": "code",
   "execution_count": 538,
   "metadata": {
    "collapsed": false
   },
   "outputs": [
    {
     "name": "stdout",
     "output_type": "stream",
     "text": [
      "p3q12\n"
     ]
    },
    {
     "data": {
      "image/png": "[encoded data removed]",
      "text/plain": [
       "<matplotlib.figure.Figure at 0x110748a10>"
      ]
     },
     "metadata": {},
     "output_type": "display_data"
    }
   ],
   "source": [
    "print keys[i]\n",
    "D = responses[keys[i]]\n",
    "plt.bar(range(len(D)), D.values(), align='center')\n",
    "plt.xticks(range(len(D)), D.keys())\n",
    "plt.gca().set_ylim([0,8])\n",
    "i += 1"
   ]
  },
  {
   "cell_type": "code",
   "execution_count": 514,
   "metadata": {
    "collapsed": false
   },
   "outputs": [
    {
     "data": {
      "text/plain": [
       "0.0078125"
      ]
     },
     "execution_count": 514,
     "metadata": {},
     "output_type": "execute_result"
    }
   ],
   "source": [
    "import scipy.stats\n",
    "\n",
    "scipy.stats.binom_test(0, 8, 1.0/2.0)"
   ]
  },
  {
   "cell_type": "code",
   "execution_count": 541,
   "metadata": {
    "collapsed": false
   },
   "outputs": [
    {
     "data": {
      "text/plain": [
       "(array(-1.0000000000000002), 0.37390096630005892)"
      ]
     },
     "execution_count": 541,
     "metadata": {},
     "output_type": "execute_result"
    }
   ],
   "source": [
    "scipy.stats.ttest_rel([2,1,0,0,1],[1,0,1,1,1])"
   ]
  },
  {
   "cell_type": "code",
   "execution_count": null,
   "metadata": {
    "collapsed": true
   },
   "outputs": [],
   "source": []
  }
 ],
 "metadata": {
  "kernelspec": {
   "display_name": "Python 2",
   "language": "python",
   "name": "python2"
  },
  "language_info": {
   "codemirror_mode": {
    "name": "ipython",
    "version": 2
   },
   "file_extension": ".py",
   "mimetype": "text/x-python",
   "name": "python",
   "nbconvert_exporter": "python",
   "pygments_lexer": "ipython2",
   "version": "2.7.10"
  }
 },
 "nbformat": 4,
 "nbformat_minor": 0
}
