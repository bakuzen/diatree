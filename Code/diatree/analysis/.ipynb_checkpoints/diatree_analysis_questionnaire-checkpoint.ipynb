{
 "cells": [
  {
   "cell_type": "code",
   "execution_count": 298,
   "metadata": {
    "collapsed": true
   },
   "outputs": [],
   "source": [
    "%matplotlib inline\n",
    "import numpy as np\n",
    "import pandas as pd\n",
    "import gzip"
   ]
  },
  {
   "cell_type": "code",
   "execution_count": 299,
   "metadata": {
    "collapsed": true
   },
   "outputs": [],
   "source": [
    "import sys\n",
    "sys.path.append(\"/Users/casey/git/mumodo/packages\")"
   ]
  },
  {
   "cell_type": "code",
   "execution_count": 300,
   "metadata": {
    "collapsed": false
   },
   "outputs": [],
   "source": [
    "from mumodo import mumodoIO as mm"
   ]
  },
  {
   "cell_type": "code",
   "execution_count": 301,
   "metadata": {
    "collapsed": false
   },
   "outputs": [],
   "source": [
    "import os\n",
    "\n",
    "folders = os.listdir('../cleaned')"
   ]
  },
  {
   "cell_type": "code",
   "execution_count": 302,
   "metadata": {
    "collapsed": false
   },
   "outputs": [],
   "source": [
    "sensorNames=['InproTK/TREE', 'InproTK/PHASE', 'InproTK/TASK']"
   ]
  },
  {
   "cell_type": "code",
   "execution_count": 303,
   "metadata": {
    "collapsed": true
   },
   "outputs": [],
   "source": [
    "def getstrings(xmline):\n",
    "    xmline = xmline.strip()\n",
    "    xmline = xmline.split(' ')\n",
    "    found = {}\n",
    "    for x in xmline:\n",
    "        if '=' in x:\n",
    "            x = x.replace('\"', '').replace('>','')\n",
    "            x = x.split(\"=\")\n",
    "            found[x[0]] = x[1]\n",
    "    return found"
   ]
  },
  {
   "cell_type": "code",
   "execution_count": 304,
   "metadata": {
    "collapsed": false
   },
   "outputs": [],
   "source": [
    "data = {}\n",
    "\n",
    "for f in folders:  \n",
    "    pid = f[:2]\n",
    "    frame =  gzip.open(os.path.join('../cleaned/', f, 'log.xio.gz'))\n",
    "    d = []\n",
    "    for line in frame:\n",
    "        s = getstrings(line)\n",
    "        if 'sensorName' not in s: continue\n",
    "        if 'TASK' in s['sensorName']:\n",
    "               d.append(s['value'])\n",
    "    data[pid] = d"
   ]
  },
  {
   "cell_type": "code",
   "execution_count": 352,
   "metadata": {
    "collapsed": false
   },
   "outputs": [],
   "source": [
    "def init_counter(q):\n",
    "    if 'p2' in q:\n",
    "        return {'Phase1':0, 'Phase2':0}\n",
    "    return {'Phase3':0, 'Phase2':0}"
   ]
  },
  {
   "cell_type": "code",
   "execution_count": 391,
   "metadata": {
    "collapsed": false
   },
   "outputs": [],
   "source": [
    "def handle_responses(data):\n",
    "    \n",
    "    responses = {}\n",
    "    for pid in data:\n",
    "        frame = data[pid]\n",
    "        for row in frame:\n",
    "            if 'response' not in row: continue\n",
    "            row = row.split(':')\n",
    "            q = row[1]\n",
    "            a = row[2]\n",
    "            if q not in responses:\n",
    "                responses[q] = {}\n",
    "                responses[q] = init_counter(q)\n",
    "            \n",
    "            if a == 'Beide':\n",
    "                for p in responses[q]:\n",
    "                    responses[q][p] + 1.0\n",
    "            elif a == 'Keiner':\n",
    "                continue\n",
    "            else:\n",
    "                responses[q][a] = responses[q][a] + 1.0\n",
    "    return responses\n"
   ]
  },
  {
   "cell_type": "code",
   "execution_count": 392,
   "metadata": {
    "collapsed": false
   },
   "outputs": [
    {
     "name": "stdout",
     "output_type": "stream",
     "text": [
      "Phase2 p3q5\n",
      "Phase2 p3q4\n",
      "Phase3 p3q3\n",
      "Phase3 p3q2\n",
      "Phase2 p3q9\n",
      "Phase2 p3q8\n",
      "Phase2 p3q7\n",
      "Phase2 p3q6\n",
      "Phase3 p3q11\n",
      "Phase3 p3q10\n",
      "Phase1 p2q6\n",
      "Phase2 p2q8\n",
      "Phase2 p2q7\n",
      "Phase2 p3q5\n",
      "Phase2 p3q9\n",
      "Phase2 p3q8\n",
      "Phase2 p3q7\n",
      "Phase3 p3q6\n",
      "Phase3 p3q12\n",
      "Phase3 p3q11\n",
      "Phase1 p2q2\n",
      "Phase2 p2q6\n",
      "Phase1 p2q3\n",
      "Phase2 p2q9\n",
      "Phase1 p2q8\n",
      "Phase2 p3q1\n",
      "Phase3 p3q5\n",
      "Phase2 p3q3\n",
      "Phase2 p3q2\n",
      "Phase3 p3q9\n",
      "Phase3 p3q6\n",
      "Phase3 p3q12\n",
      "Phase3 p3q11\n",
      "Phase3 p3q1\n",
      "Phase2 p3q5\n",
      "Phase3 p3q3\n",
      "Phase3 p3q2\n",
      "Phase3 p3q11\n",
      "Phase3 p3q5\n",
      "Phase2 p3q4\n",
      "Phase2 p3q2\n",
      "Phase3 p3q9\n",
      "Phase2 p3q8\n",
      "Phase3 p3q7\n",
      "Phase3 p3q6\n",
      "Phase2 p2q1\n",
      "Phase2 p2q9\n",
      "Phase2 p3q1\n",
      "Phase2 p3q3\n",
      "Phase1 p2q5\n",
      "Phase2 p2q3\n",
      "Phase3 p3q5\n",
      "Phase2 p3q3\n",
      "Phase2 p3q8\n",
      "Phase3 p3q6\n",
      "Phase2 p3q12\n"
     ]
    }
   ],
   "source": [
    "responses = handle_responses(data)"
   ]
  },
  {
   "cell_type": "code",
   "execution_count": 387,
   "metadata": {
    "collapsed": false
   },
   "outputs": [],
   "source": [
    "import matplotlib.pyplot as plt\n",
    "keys = responses.keys()\n",
    "i = 0"
   ]
  },
  {
   "cell_type": "code",
   "execution_count": 390,
   "metadata": {
    "collapsed": false
   },
   "outputs": [
    {
     "name": "stdout",
     "output_type": "stream",
     "text": [
      "p3q11\n"
     ]
    },
    {
     "data": {
      "image/png": "[encoded data removed]",
      "text/plain": [
       "<matplotlib.figure.Figure at 0x114147350>"
      ]
     },
     "metadata": {},
     "output_type": "display_data"
    }
   ],
   "source": [
    "print keys[i]\n",
    "D = responses[keys[i]]\n",
    "plt.bar(range(len(D)), D.values(), align='center')\n",
    "plt.xticks(range(len(D)), D.keys())\n",
    "i += 1"
   ]
  },
  {
   "cell_type": "code",
   "execution_count": null,
   "metadata": {
    "collapsed": true
   },
   "outputs": [],
   "source": []
  },
  {
   "cell_type": "code",
   "execution_count": null,
   "metadata": {
    "collapsed": true
   },
   "outputs": [],
   "source": []
  }
 ],
 "metadata": {
  "kernelspec": {
   "display_name": "Python 2",
   "language": "python",
   "name": "python2"
  },
  "language_info": {
   "codemirror_mode": {
    "name": "ipython",
    "version": 2
   },
   "file_extension": ".py",
   "mimetype": "text/x-python",
   "name": "python",
   "nbconvert_exporter": "python",
   "pygments_lexer": "ipython2",
   "version": "2.7.10"
  }
 },
 "nbformat": 4,
 "nbformat_minor": 0
}
