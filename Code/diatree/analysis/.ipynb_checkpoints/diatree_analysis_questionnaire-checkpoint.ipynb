{
 "cells": [
  {
   "cell_type": "code",
   "execution_count": 1,
   "metadata": {
    "collapsed": true
   },
   "outputs": [],
   "source": [
    "%matplotlib inline\n",
    "import numpy as np\n",
    "import pandas as pd\n",
    "import gzip"
   ]
  },
  {
   "cell_type": "code",
   "execution_count": 5,
   "metadata": {
    "collapsed": true
   },
   "outputs": [],
   "source": [
    "import sys\n",
    "sys.path.append(\"/Users/casey/git/mumodo/packages\")"
   ]
  },
  {
   "cell_type": "code",
   "execution_count": 6,
   "metadata": {
    "collapsed": false
   },
   "outputs": [],
   "source": [
    "from mumodo import mumodoIO as mm"
   ]
  },
  {
   "cell_type": "code",
   "execution_count": 7,
   "metadata": {
    "collapsed": false
   },
   "outputs": [
    {
     "data": {
      "text/plain": [
       "14"
      ]
     },
     "execution_count": 7,
     "metadata": {},
     "output_type": "execute_result"
    }
   ],
   "source": [
    "import os\n",
    "\n",
    "folders = os.listdir('../cleaned')\n",
    "\n",
    "len(folders)"
   ]
  },
  {
   "cell_type": "code",
   "execution_count": 8,
   "metadata": {
    "collapsed": true
   },
   "outputs": [],
   "source": [
    "def getstrings(xmline):\n",
    "    xmline = xmline.strip()\n",
    "    xmline = xmline.split(' ')\n",
    "    found = {}\n",
    "    for x in xmline:\n",
    "        if '=' in x:\n",
    "            x = x.replace('\"', '').replace('>','')\n",
    "            x = x.split(\"=\")\n",
    "            found[x[0]] = x[1]\n",
    "    return found"
   ]
  },
  {
   "cell_type": "code",
   "execution_count": 9,
   "metadata": {
    "collapsed": false
   },
   "outputs": [],
   "source": [
    "data = {}\n",
    "\n",
    "for f in folders:  \n",
    "    pid = f.split(\"_\")[0]\n",
    "    frame =  gzip.open(os.path.join('../cleaned/', f, 'log.xio.gz'))\n",
    "    d = []\n",
    "    for line in frame:\n",
    "        s = getstrings(line)\n",
    "        if 'sensorName' not in s: continue\n",
    "        if 'TASK' in s['sensorName']:\n",
    "            d.append(s['value'])\n",
    "    data[pid] = d"
   ]
  },
  {
   "cell_type": "code",
   "execution_count": 10,
   "metadata": {
    "collapsed": false
   },
   "outputs": [],
   "source": [
    "def init_counter(q):\n",
    "    if 'p2' in q:\n",
    "        return {'Phase1':0, 'Phase2':0}\n",
    "    return {'Phase3':0, 'Phase2':0}"
   ]
  },
  {
   "cell_type": "code",
   "execution_count": 11,
   "metadata": {
    "collapsed": false
   },
   "outputs": [],
   "source": [
    "def handle_responses(data):\n",
    "    \n",
    "    responses = {}\n",
    "    totals = {}\n",
    "    for pid in data:\n",
    "        frame = data[pid]\n",
    "        for row in frame:\n",
    "            if 'response' not in row: continue\n",
    "            row = row.split(':')\n",
    "            q = row[1]\n",
    "            a = row[2]\n",
    "            if q not in responses:\n",
    "                totals[q] = 0.0\n",
    "                responses[q] = {}\n",
    "                responses[q] = init_counter(q)\n",
    "            totals[q] = totals[q] + 1\n",
    "            if a == 'Beide':\n",
    "                for p in responses[q]:\n",
    "                    responses[q][p] + 1.0\n",
    "                continue\n",
    "            elif a == 'Keiner':\n",
    "                continue\n",
    "            else:\n",
    "                responses[q][a] = responses[q][a] + 1.0\n",
    "    print totals\n",
    "    return responses\n"
   ]
  },
  {
   "cell_type": "code",
   "execution_count": 12,
   "metadata": {
    "collapsed": false
   },
   "outputs": [
    {
     "name": "stdout",
     "output_type": "stream",
     "text": [
      "{'p3q12': 14.0, 'p3q10': 14.0, 'p3q11': 14.0, 'p3q8': 14.0, 'p3q9': 14.0, 'p3q4': 14.0, 'p3q5': 14.0, 'p2q10': 12.0, 'p2q1': 12.0, 'p2q3': 12.0, 'p2q2': 12.0, 'p2q5': 12.0, 'p2q4': 12.0, 'p2q7': 12.0, 'p2q6': 12.0, 'p2q9': 12.0, 'p2q8': 12.0, 'p3q6': 14.0, 'p3q7': 14.0, 'p3q1': 14.0, 'p3q2': 14.0, 'p3q3': 14.0}\n"
     ]
    }
   ],
   "source": [
    "responses = handle_responses(data)"
   ]
  },
  {
   "cell_type": "code",
   "execution_count": 22,
   "metadata": {
    "collapsed": false
   },
   "outputs": [],
   "source": [
    "from scipy.stats import chisquare \n",
    "\n",
    "def getstatsig(o):\n",
    "    observed = np.array(o)\n",
    "    expected = np.array([0.5,0.5]) * np.sum(observed)\n",
    "    return chisquare(observed, expected)"
   ]
  },
  {
   "cell_type": "code",
   "execution_count": 52,
   "metadata": {
    "collapsed": false
   },
   "outputs": [],
   "source": [
    "import matplotlib.pyplot as plt\n",
    "keys = responses.keys()\n",
    "i = 0"
   ]
  },
  {
   "cell_type": "code",
   "execution_count": 55,
   "metadata": {
    "collapsed": false
   },
   "outputs": [
    {
     "name": "stdout",
     "output_type": "stream",
     "text": [
      "p3q11\n",
      "(6.0, 0.014305878435429641)\n"
     ]
    },
    {
     "data": {
      "image/png": "[encoded data removed]",
      "text/plain": [
       "<matplotlib.figure.Figure at 0x109dcc6d0>"
      ]
     },
     "metadata": {},
     "output_type": "display_data"
    }
   ],
   "source": [
    "print keys[i]\n",
    "D = responses[keys[i]]\n",
    "print getstatsig(D.values())\n",
    "plt.bar(range(len(D)), D.values(), align='center')\n",
    "plt.xticks(range(len(D)), D.keys())\n",
    "plt.gca().set_ylim([0,14])\n",
    "i += 1"
   ]
  },
  {
   "cell_type": "raw",
   "metadata": {
    "collapsed": true
   },
   "source": [
    "p3q11 - phase3 Ich hatte das Gefühl, dass der Assistent <br>versuchte, etwas über mich zu lernen.  X2 (2, N = 14) = 6.0, p <.05\n",
    "p3q8 - phase2  Der Assistent hat geantwortet,<br> während ich redete.  X2 (2, N = 14) = 4.0, p <.05"
   ]
  },
  {
   "cell_type": "code",
   "execution_count": null,
   "metadata": {
    "collapsed": true
   },
   "outputs": [],
   "source": [
    " X2 (2, N = 14) = 4.0, p <.05"
   ]
  }
 ],
 "metadata": {
  "kernelspec": {
   "display_name": "Python 2",
   "language": "python",
   "name": "python2"
  },
  "language_info": {
   "codemirror_mode": {
    "name": "ipython",
    "version": 2
   },
   "file_extension": ".py",
   "mimetype": "text/x-python",
   "name": "python",
   "nbconvert_exporter": "python",
   "pygments_lexer": "ipython2",
   "version": "2.7.10"
  }
 },
 "nbformat": 4,
 "nbformat_minor": 0
}
