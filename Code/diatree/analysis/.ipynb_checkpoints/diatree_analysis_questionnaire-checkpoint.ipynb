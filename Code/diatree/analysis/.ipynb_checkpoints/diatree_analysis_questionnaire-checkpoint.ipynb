{
 "cells": [
  {
   "cell_type": "code",
   "execution_count": 1,
   "metadata": {
    "collapsed": true
   },
   "outputs": [],
   "source": [
    "%matplotlib inline\n",
    "import numpy as np\n",
    "import pandas as pd\n",
    "import gzip"
   ]
  },
  {
   "cell_type": "code",
   "execution_count": 2,
   "metadata": {
    "collapsed": true
   },
   "outputs": [],
   "source": [
    "import sys\n",
    "sys.path.append(\"/Users/casey/git/mumodo/packages\")"
   ]
  },
  {
   "cell_type": "code",
   "execution_count": 3,
   "metadata": {
    "collapsed": false
   },
   "outputs": [],
   "source": [
    "from mumodo import mumodoIO as mm"
   ]
  },
  {
   "cell_type": "code",
   "execution_count": 4,
   "metadata": {
    "collapsed": false
   },
   "outputs": [
    {
     "data": {
      "text/plain": [
       "14"
      ]
     },
     "execution_count": 4,
     "metadata": {},
     "output_type": "execute_result"
    }
   ],
   "source": [
    "import os\n",
    "\n",
    "folders = os.listdir('../cleaned')\n",
    "\n",
    "len(folders)"
   ]
  },
  {
   "cell_type": "code",
   "execution_count": 5,
   "metadata": {
    "collapsed": true
   },
   "outputs": [],
   "source": [
    "def getstrings(xmline):\n",
    "    xmline = xmline.strip()\n",
    "    xmline = xmline.split(' ')\n",
    "    found = {}\n",
    "    for x in xmline:\n",
    "        if '=' in x:\n",
    "            x = x.replace('\"', '').replace('>','')\n",
    "            x = x.split(\"=\")\n",
    "            found[x[0]] = x[1]\n",
    "    return found"
   ]
  },
  {
   "cell_type": "code",
   "execution_count": 6,
   "metadata": {
    "collapsed": false
   },
   "outputs": [],
   "source": [
    "data = {}\n",
    "\n",
    "for f in folders:  \n",
    "    pid = f.split(\"_\")[0]\n",
    "    frame =  gzip.open(os.path.join('../cleaned/', f, 'log.xio.gz'))\n",
    "    d = []\n",
    "    for line in frame:\n",
    "        s = getstrings(line)\n",
    "        if 'sensorName' not in s: continue\n",
    "        if 'TASK' in s['sensorName']:\n",
    "            d.append(s['value'])\n",
    "    data[pid] = d"
   ]
  },
  {
   "cell_type": "code",
   "execution_count": 7,
   "metadata": {
    "collapsed": false
   },
   "outputs": [],
   "source": [
    "def init_counter(q):\n",
    "    if 'p2' in q:\n",
    "        return {'Phase1':0, 'Phase2':0, 'Keiner':0, 'Beide':0}\n",
    "    return {'Phase3':0, 'Phase2':0,'Keiner':0, 'Beide':0}"
   ]
  },
  {
   "cell_type": "code",
   "execution_count": 8,
   "metadata": {
    "collapsed": false
   },
   "outputs": [],
   "source": [
    "def handle_responses(data):\n",
    "    \n",
    "    responses = {}\n",
    "    totals = {}\n",
    "    for pid in data:\n",
    "        frame = data[pid]\n",
    "        for row in frame:\n",
    "            if 'response' not in row: continue\n",
    "            row = row.split(':')\n",
    "            q = row[1]\n",
    "            a = row[2]\n",
    "            if q not in responses:\n",
    "                totals[q] = 0.0\n",
    "                responses[q] = init_counter(q)\n",
    "            totals[q] = totals[q] + 1\n",
    "            responses[q][a] += 1\n",
    "            #if a == 'Beide':\n",
    "            #    for p in responses[q]:\n",
    "            #       responses[q][p] + 1.0\n",
    "            #    continue\n",
    "            #elif a == 'Keiner':\n",
    "            #    continue\n",
    "            #else:\n",
    "            #    responses[q][a] = responses[q][a] + 1.0\n",
    "    print totals\n",
    "    return responses\n"
   ]
  },
  {
   "cell_type": "code",
   "execution_count": 9,
   "metadata": {
    "collapsed": false
   },
   "outputs": [
    {
     "name": "stdout",
     "output_type": "stream",
     "text": [
      "{'p3q12': 14.0, 'p3q10': 14.0, 'p3q11': 14.0, 'p3q8': 14.0, 'p3q9': 14.0, 'p3q4': 14.0, 'p3q5': 14.0, 'p2q10': 12.0, 'p2q1': 12.0, 'p2q3': 12.0, 'p2q2': 12.0, 'p2q5': 12.0, 'p2q4': 12.0, 'p2q7': 12.0, 'p2q6': 12.0, 'p2q9': 12.0, 'p2q8': 12.0, 'p3q6': 14.0, 'p3q7': 14.0, 'p3q1': 14.0, 'p3q2': 14.0, 'p3q3': 14.0}\n"
     ]
    },
    {
     "data": {
      "text/plain": [
       "{'p2q1': {'Beide': 9, 'Keiner': 0, 'Phase1': 1, 'Phase2': 2},\n",
       " 'p2q10': {'Beide': 5, 'Keiner': 5, 'Phase1': 1, 'Phase2': 1},\n",
       " 'p2q2': {'Beide': 9, 'Keiner': 1, 'Phase1': 2, 'Phase2': 0},\n",
       " 'p2q3': {'Beide': 5, 'Keiner': 3, 'Phase1': 3, 'Phase2': 1},\n",
       " 'p2q4': {'Beide': 9, 'Keiner': 3, 'Phase1': 0, 'Phase2': 0},\n",
       " 'p2q5': {'Beide': 6, 'Keiner': 3, 'Phase1': 1, 'Phase2': 2},\n",
       " 'p2q6': {'Beide': 4, 'Keiner': 5, 'Phase1': 2, 'Phase2': 1},\n",
       " 'p2q7': {'Beide': 10, 'Keiner': 1, 'Phase1': 0, 'Phase2': 1},\n",
       " 'p2q8': {'Beide': 5, 'Keiner': 4, 'Phase1': 1, 'Phase2': 2},\n",
       " 'p2q9': {'Beide': 7, 'Keiner': 2, 'Phase1': 0, 'Phase2': 3},\n",
       " 'p3q1': {'Beide': 10, 'Keiner': 1, 'Phase2': 2, 'Phase3': 1},\n",
       " 'p3q10': {'Beide': 7, 'Keiner': 4, 'Phase2': 1, 'Phase3': 2},\n",
       " 'p3q11': {'Beide': 0, 'Keiner': 8, 'Phase2': 0, 'Phase3': 6},\n",
       " 'p3q12': {'Beide': 1, 'Keiner': 9, 'Phase2': 1, 'Phase3': 3},\n",
       " 'p3q2': {'Beide': 9, 'Keiner': 1, 'Phase2': 2, 'Phase3': 2},\n",
       " 'p3q3': {'Beide': 4, 'Keiner': 3, 'Phase2': 4, 'Phase3': 3},\n",
       " 'p3q4': {'Beide': 9, 'Keiner': 3, 'Phase2': 2, 'Phase3': 0},\n",
       " 'p3q5': {'Beide': 3, 'Keiner': 2, 'Phase2': 4, 'Phase3': 5},\n",
       " 'p3q6': {'Beide': 3, 'Keiner': 6, 'Phase2': 1, 'Phase3': 4},\n",
       " 'p3q7': {'Beide': 9, 'Keiner': 2, 'Phase2': 2, 'Phase3': 1},\n",
       " 'p3q8': {'Beide': 6, 'Keiner': 4, 'Phase2': 4, 'Phase3': 0},\n",
       " 'p3q9': {'Beide': 7, 'Keiner': 1, 'Phase2': 3, 'Phase3': 3}}"
      ]
     },
     "execution_count": 9,
     "metadata": {},
     "output_type": "execute_result"
    }
   ],
   "source": [
    "responses = handle_responses(data)\n",
    "\n",
    "responses"
   ]
  },
  {
   "cell_type": "code",
   "execution_count": 10,
   "metadata": {
    "collapsed": false
   },
   "outputs": [],
   "source": [
    "from scipy.stats import chisquare \n",
    "\n",
    "def getstatsig(o):\n",
    "    observed = np.array(o)\n",
    "    expected = np.array([0.25] * len(o)) * np.sum(observed)\n",
    "    return chisquare(observed, expected)"
   ]
  },
  {
   "cell_type": "code",
   "execution_count": 71,
   "metadata": {
    "collapsed": false
   },
   "outputs": [
    {
     "data": {
      "text/plain": [
       "0.004166666666666667"
      ]
     },
     "execution_count": 71,
     "metadata": {},
     "output_type": "execute_result"
    }
   ],
   "source": [
    "import matplotlib.pyplot as plt\n",
    "keys = responses.keys()\n",
    "keys.sort()\n",
    "i = 1\n",
    "\n",
    "0.05 / 12"
   ]
  },
  {
   "cell_type": "code",
   "execution_count": 72,
   "metadata": {
    "collapsed": false
   },
   "outputs": [
    {
     "name": "stdout",
     "output_type": "stream",
     "text": [
      "p2q10\n",
      "(5.333333333333333, 0.14895400671141984)\n"
     ]
    },
    {
     "data": {
      "image/png": "[encoded data removed]",
      "text/plain": [
       "<matplotlib.figure.Figure at 0xaa3b692c>"
      ]
     },
     "metadata": {},
     "output_type": "display_data"
    }
   ],
   "source": [
    "print keys[i]\n",
    "D = responses[keys[i]]\n",
    "print getstatsig(D.values())\n",
    "plt.bar(range(len(D)), D.values(), align='center')\n",
    "plt.xticks(range(len(D)), D.keys())\n",
    "plt.gca().set_ylim([0,14])\n",
    "i += 1"
   ]
  },
  {
   "cell_type": "raw",
   "metadata": {},
   "source": [
    "1 The interface useful and easy to understand.\n",
    "2 The assistant was easy and intuitive to use.\n",
    "3 The assistant understaood what I wanted to say.\n",
    "4 I always understood what the system wanted from me. \n",
    "5 The assistant made many mistakes. \n",
    "6 The assistant did not respond while I spoke.\n",
    "7 It was sometimes unclear to me if the assistant understood me. \n",
    "8 The assistant responde while I spoke. \n",
    "9 The assistant sometimes did things that I did not expect.\n",
    "10 When the assistant made mistakes, it was easy for me to correct them. \n",
    "11 I had the feeling that the assistant attempted to learn about me.\n",
    "12 I had the feeling that the asssitant made incorrect guesses. "
   ]
  },
  {
   "cell_type": "code",
   "execution_count": null,
   "metadata": {
    "collapsed": true
   },
   "outputs": [],
   "source": [
    " X2 (4, N = 14) = 4.0, p <.05"
   ]
  }
 ],
 "metadata": {
  "kernelspec": {
   "display_name": "Python 2",
   "language": "python",
   "name": "python2"
  },
  "language_info": {
   "codemirror_mode": {
    "name": "ipython",
    "version": 2
   },
   "file_extension": ".py",
   "mimetype": "text/x-python",
   "name": "python",
   "nbconvert_exporter": "python",
   "pygments_lexer": "ipython2",
   "version": "2.7.6"
  }
 },
 "nbformat": 4,
 "nbformat_minor": 0
}
