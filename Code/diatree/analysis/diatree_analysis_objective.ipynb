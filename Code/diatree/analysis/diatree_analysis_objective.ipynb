{
 "cells": [
  {
   "cell_type": "code",
   "execution_count": 33,
   "metadata": {
    "collapsed": true
   },
   "outputs": [],
   "source": [
    "%matplotlib inline\n",
    "import numpy as np\n",
    "import pandas as pd\n",
    "import gzip"
   ]
  },
  {
   "cell_type": "code",
   "execution_count": 1,
   "metadata": {
    "collapsed": true
   },
   "outputs": [],
   "source": [
    "import sys\n",
    "sys.path.append(\"/Users/casey/git/mumodo/packages\")"
   ]
  },
  {
   "cell_type": "code",
   "execution_count": 2,
   "metadata": {
    "collapsed": false
   },
   "outputs": [],
   "source": [
    "from mumodo import mumodoIO as mm"
   ]
  },
  {
   "cell_type": "code",
   "execution_count": 3,
   "metadata": {
    "collapsed": false
   },
   "outputs": [],
   "source": [
    "import os\n",
    "\n",
    "folders = os.listdir('../cleaned')"
   ]
  },
  {
   "cell_type": "code",
   "execution_count": 114,
   "metadata": {
    "collapsed": false
   },
   "outputs": [
    {
     "name": "stdout",
     "output_type": "stream",
     "text": [
      "opening compressed file ...\n",
      "opening file without indexing\n",
      "opening compressed file ...\n",
      "opening file without indexing\n",
      "opening compressed file ...\n",
      "opening file without indexing\n",
      "opening compressed file ...\n",
      "opening file without indexing\n",
      "opening compressed file ...\n",
      "opening file without indexing\n",
      "opening compressed file ...\n",
      "opening file without indexing\n",
      "opening compressed file ...\n",
      "opening file without indexing\n",
      "opening compressed file ...\n",
      "opening file without indexing\n",
      "opening compressed file ...\n",
      "opening file without indexing\n"
     ]
    }
   ],
   "source": [
    "data = {}\n",
    "\n",
    "for f in folders:\n",
    "    pid = f[:2]\n",
    "    sf = mm.open_streamframe_from_xiofile(os.path.join('../cleaned/', f, 'log.xio.gz'), '/InproTK/', window_size=-1)\n",
    "    ph = sf['PHASE']\n",
    "    sf = sf['TASK']\n",
    "    ph = ph.dropna()\n",
    "    sf = sf.dropna()\n",
    "    data[pid] = sf\n",
    "    data[pid+'_phase'] = ph\n",
    "    "
   ]
  },
  {
   "cell_type": "code",
   "execution_count": 63,
   "metadata": {
    "collapsed": false
   },
   "outputs": [],
   "source": [
    "def get_task_frame_pairs2(sf):\n",
    "    f = sf[sf.str.contains(\"frame\")]\n",
    "    frames = pd.DataFrame(f.values , columns = ['frames'])\n",
    "    frames.index = f.index\n",
    "    t = sf[sf.str.contains(\"task\")]\n",
    "    tasks = pd.DataFrame(t.values, columns = ['tasks'])\n",
    "    tasks.index = t.index\n",
    "    d = sf[sf.str.contains(\"domain\")]\n",
    "    domains = pd.DataFrame(d.values, columns = ['domains'])\n",
    "    domains.index = d.index\n",
    "    merged = pd.merge(frames, domains, how=\"outer\", left_index=True, right_index=True)\n",
    "    merged = pd.merge(merged, tasks, how=\"outer\", left_index=True, right_index=True)\n",
    "    merged = merged.ffill()\n",
    "    print merged[:10]"
   ]
  },
  {
   "cell_type": "code",
   "execution_count": 151,
   "metadata": {
    "collapsed": true
   },
   "outputs": [],
   "source": [
    "class Task:\n",
    "    def __init__(self):\n",
    "        self.frame = {}\n",
    "        self.task = {}\n",
    "        self.start = None\n",
    "        self.end = None\n",
    "        self.domain = None\n",
    "        self.intent = None\n",
    "    def elapsed(self):\n",
    "        return (self.end - self.start) / 10000"
   ]
  },
  {
   "cell_type": "code",
   "execution_count": 152,
   "metadata": {
    "collapsed": false
   },
   "outputs": [],
   "source": [
    "def get_task_frame_pairs(sf):\n",
    "    current = Task()\n",
    "    tasks = []\n",
    "    for i,row in sf.iteritems():\n",
    "        row = row.split(\":\")\n",
    "        if len(row) < 2: continue\n",
    "        elif row[1] == 'intent':\n",
    "            current.intent = row[2]\n",
    "            current.end = i\n",
    "        elif row[0] == 'frame':\n",
    "            current.frame[row[1]] = row[2]\n",
    "        elif row[0] == 'domain':\n",
    "            tasks.append(current)\n",
    "            current = Task()\n",
    "            current.domain = row[1]\n",
    "            current.start = i\n",
    "        elif row[0] == 'task':\n",
    "            current.task[row[1]] = row[2]\n",
    "    return tasks"
   ]
  },
  {
   "cell_type": "code",
   "execution_count": 153,
   "metadata": {
    "collapsed": false
   },
   "outputs": [],
   "source": [
    "def get_phase_boundaries(sf):\n",
    "    pass"
   ]
  },
  {
   "cell_type": "code",
   "execution_count": 160,
   "metadata": {
    "collapsed": false
   },
   "outputs": [
    {
     "name": "stdout",
     "output_type": "stream",
     "text": [
      "erinnerung anruf\n",
      "0\n",
      "{'message': '[joggen gehen]'}\n",
      "{}\n"
     ]
    }
   ],
   "source": [
    "ind = 7\n",
    "for pid in data:\n",
    "    phases = get_phase_boundaries(data[pid+'_phase'])\n",
    "    tasks = get_task_frame_pairs(data[pid])\n",
    "    print tasks[ind].domain, tasks[ind].intent\n",
    "    print tasks[ind].elapsed()\n",
    "    print tasks[ind].task\n",
    "    print tasks[ind].frame\n",
    "    break"
   ]
  },
  {
   "cell_type": "code",
   "execution_count": null,
   "metadata": {
    "collapsed": true
   },
   "outputs": [],
   "source": []
  },
  {
   "cell_type": "code",
   "execution_count": null,
   "metadata": {
    "collapsed": true
   },
   "outputs": [],
   "source": []
  }
 ],
 "metadata": {
  "kernelspec": {
   "display_name": "Python 2",
   "language": "python",
   "name": "python2"
  },
  "language_info": {
   "codemirror_mode": {
    "name": "ipython",
    "version": 2
   },
   "file_extension": ".py",
   "mimetype": "text/x-python",
   "name": "python",
   "nbconvert_exporter": "python",
   "pygments_lexer": "ipython2",
   "version": "2.7.10"
  }
 },
 "nbformat": 4,
 "nbformat_minor": 0
}
